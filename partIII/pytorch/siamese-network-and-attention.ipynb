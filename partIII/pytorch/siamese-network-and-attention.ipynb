{
 "cells": [
  {
   "cell_type": "markdown",
   "metadata": {
    "deletable": true,
    "editable": true
   },
   "source": [
    "# SIAMESE NETWORKS"
   ]
  },
  {
   "cell_type": "markdown",
   "metadata": {
    "deletable": true,
    "editable": true
   },
   "source": [
    "# Import and required packages\n",
    "\n",
    "For this lesson you will need some popular packages such as numpy and pandas in addition to PyTorch and torchtext. The latter can be installed via:\n",
    "\n",
    "`> pip install torchtext`"
   ]
  },
  {
   "cell_type": "code",
   "execution_count": 1,
   "metadata": {
    "collapsed": false,
    "deletable": true,
    "editable": true
   },
   "outputs": [],
   "source": [
    "import copy\n",
    "import os\n",
    "\n",
    "import numpy as np\n",
    "import pandas as pd\n",
    "\n",
    "# PyTorch imports.\n",
    "import torch\n",
    "from torch import nn, optim\n",
    "from torch.autograd import Variable\n",
    "from torchtext import data\n",
    "from torchtext.vocab import GloVe\n",
    "import torch.nn.functional as F\n",
    "\n",
    "# Required for displaying plots from pandas dataframes.\n",
    "%matplotlib inline\n",
    "import matplotlib.pyplot as plt\n",
    "\n",
    "# Required for displaying images in the notebook.\n",
    "from IPython.display import Image\n",
    "from IPython.core.display import HTML \n",
    "\n",
    "# Setting seeds for reproducibility.\n",
    "torch.manual_seed(1)\n",
    "torch.cuda.manual_seed(1)"
   ]
  },
  {
   "cell_type": "markdown",
   "metadata": {
    "deletable": true,
    "editable": true
   },
   "source": [
    "# Configuration"
   ]
  },
  {
   "cell_type": "code",
   "execution_count": 2,
   "metadata": {
    "collapsed": true,
    "deletable": true,
    "editable": true
   },
   "outputs": [],
   "source": [
    "batch_size = 32\n",
    "embedding_dim = 300\n",
    "hidden_size = 100\n",
    "gpu = 0\n",
    "learning_rate = 0.001\n",
    "max_sent_len = 50\n",
    "print_freq = 1000\n",
    "num_epochs = 3"
   ]
  },
  {
   "cell_type": "markdown",
   "metadata": {
    "deletable": true,
    "editable": true
   },
   "source": [
    "# The PyTorch and torchtext dataset API\n",
    "\n",
    "We will process the datasets using a standard dataset API which will provide us with an uniform input format for our data. It is recommended to directly look at the code and docstrings for understanding the dataset API: [https://github.com/pytorch/text/tree/master/torchtext/data](https://github.com/pytorch/text/tree/master/torchtext/data)"
   ]
  },
  {
   "cell_type": "code",
   "execution_count": 3,
   "metadata": {
    "collapsed": true,
    "deletable": true,
    "editable": true
   },
   "outputs": [],
   "source": [
    "class Quora():\n",
    "    def __init__(self, batch_size, embedding_dim, gpu):\n",
    "        self.RAW = data.RawField()\n",
    "        self.TEXT = data.Field(batch_first=True,\n",
    "                               lower=True,\n",
    "                               fix_length=max_sent_len)\n",
    "        self.LABEL = data.Field(sequential=False,\n",
    "                                unk_token=None)\n",
    "\n",
    "        self.train, self.dev, self.test = data.TabularDataset.splits(\n",
    "            path='./quora',\n",
    "            train='train.tsv',\n",
    "            validation='dev.tsv',\n",
    "            test='test.tsv',\n",
    "            format='tsv',\n",
    "            fields=[('label', self.LABEL),\n",
    "                    ('q1', self.TEXT),\n",
    "                    ('q2', self.TEXT),\n",
    "                    ('id', self.RAW)])\n",
    "\n",
    "        self.TEXT.build_vocab(self.train, self.dev, self.test, \n",
    "                              vectors=GloVe(name='6B', dim=embedding_dim),\n",
    "                              unk_init=torch.zeros((1, embedding_dim)).uniform_(-0.25, 0.25))\n",
    "        \n",
    "        self.LABEL.build_vocab(self.train)\n",
    "\n",
    "        self.train_iter, self.dev_iter, self.test_iter = \\\n",
    "            data.Iterator.splits((self.train, self.dev, self.test),\n",
    "                                 device=gpu,\n",
    "                                 batch_sizes=[batch_size] * 3,\n",
    "                                 shuffle=True)\n",
    "\n",
    "        self.max_word_len = max([len(w) for w in self.TEXT.vocab.itos])"
   ]
  },
  {
   "cell_type": "markdown",
   "metadata": {
    "deletable": true,
    "editable": true
   },
   "source": [
    "# Instantiating the dataset"
   ]
  },
  {
   "cell_type": "code",
   "execution_count": 4,
   "metadata": {
    "collapsed": false,
    "deletable": true,
    "editable": true
   },
   "outputs": [
    {
     "name": "stdout",
     "output_type": "stream",
     "text": [
      "[INFO] Vocabulary size: 107161\n",
      "[INFO] <unk> id: 0\n",
      "[INFO] <pad> id: 1\n"
     ]
    }
   ],
   "source": [
    "dataset = Quora(batch_size, embedding_dim, gpu)\n",
    "word_vocab_size = len(dataset.TEXT.vocab)\n",
    "unk_id = dataset.TEXT.vocab.stoi['<unk>']\n",
    "pad_id = dataset.TEXT.vocab.stoi['<pad>']\n",
    "\n",
    "print('[INFO] Vocabulary size: {}'.format(word_vocab_size))\n",
    "print('[INFO] <unk> id: {}'.format(unk_id))\n",
    "print('[INFO] <pad> id: {}'.format(pad_id))"
   ]
  },
  {
   "cell_type": "markdown",
   "metadata": {
    "deletable": true,
    "editable": true
   },
   "source": [
    "# Siamese network\n",
    "\n",
    "The following image is from [Learning a Similarity Metric Discriminatively, with Application to Face Verification](http://yann.lecun.com/exdb/publis/pdf/chopra-05.pdf) and it depicts a siamese network.\n",
    "\n",
    "<img src=\"figures/siamese-lecun.png\" alt=\"Siamese Network\" style=\"width: 800px;\"/>\n",
    "\n",
    "The key characteristics of such a network are:\n",
    "* the input is constituted by a pair of objects\n",
    "* each input is encoded independently by the same module (parameters are shared between branches)\n",
    "* an energy function computes the distance or similarity between the encoded representations\n",
    "* a contrastive loss is used to optimize the network\n",
    "\n",
    "## Contrastive loss\n",
    "\n",
    "We select the cosine loss between sentence embeddings as our contrastive loss.\n",
    "\n",
    "PyTorch already contains an implementation of such loss, called [CosineEmbeddingLoss](https://pytorch.org/docs/master/nn.html#torch.nn.CosineEmbeddingLoss):\n",
    "\n",
    "<img src=\"figures/cosine-loss.png\" alt=\"Cosine Embedding Loss\" style=\"width: 600px;\"/>\n",
    "\n"
   ]
  },
  {
   "cell_type": "code",
   "execution_count": 5,
   "metadata": {
    "collapsed": false,
    "deletable": true,
    "editable": true
   },
   "outputs": [
    {
     "name": "stdout",
     "output_type": "stream",
     "text": [
      "Variable containing:\n",
      " 1\n",
      "[torch.FloatTensor of size 1]\n",
      "\n",
      "Variable containing:\n",
      " 0.6000\n",
      "[torch.FloatTensor of size 1]\n",
      "\n"
     ]
    }
   ],
   "source": [
    "dummy_vector_a = torch.autograd.Variable(torch.FloatTensor([[1., 2.]]))\n",
    "dummy_vector_b = torch.autograd.Variable(torch.FloatTensor([[1., 2.]]))\n",
    "\n",
    "dummy_label = torch.autograd.Variable(torch.FloatTensor([[-1]]))\n",
    "\n",
    "print(F.cosine_similarity(dummy_vector_a, dummy_vector_b))\n",
    "\n",
    "print(torch.nn.CosineEmbeddingLoss(margin=0.4)(dummy_vector_a, dummy_vector_b, dummy_label))"
   ]
  },
  {
   "cell_type": "markdown",
   "metadata": {
    "deletable": true,
    "editable": true
   },
   "source": [
    "## Plotting the loss: y == 1"
   ]
  },
  {
   "cell_type": "code",
   "execution_count": 6,
   "metadata": {
    "collapsed": false,
    "deletable": true,
    "editable": true
   },
   "outputs": [
    {
     "data": {
      "text/plain": [
       "<matplotlib.axes._subplots.AxesSubplot at 0x7fefc197efd0>"
      ]
     },
     "execution_count": 6,
     "metadata": {},
     "output_type": "execute_result"
    },
    {
     "data": {
      "image/png": "[encoded data removed]",
      "text/plain": [
       "<matplotlib.figure.Figure at 0x7fefc197e4d0>"
      ]
     },
     "metadata": {},
     "output_type": "display_data"
    }
   ],
   "source": [
    "sims, losses = [], []\n",
    "for sim in [0.01 * x for x in range(-100, 101)]:\n",
    "    sims.append(sim)\n",
    "    losses.append(1 - sim)\n",
    "    \n",
    "loss_df = pd.DataFrame()\n",
    "loss_df[\"cosine similarity\"] = sims\n",
    "loss_df[\"loss\"] = losses\n",
    "loss_df.plot(x=\"cosine similarity\", y=\"loss\", figsize=(10,10))"
   ]
  },
  {
   "cell_type": "markdown",
   "metadata": {
    "deletable": true,
    "editable": true
   },
   "source": [
    "## Plotting the loss: y == -1"
   ]
  },
  {
   "cell_type": "code",
   "execution_count": 7,
   "metadata": {
    "collapsed": false,
    "deletable": true,
    "editable": true
   },
   "outputs": [
    {
     "data": {
      "text/plain": [
       "<matplotlib.axes._subplots.AxesSubplot at 0x7fefbfc8fa10>"
      ]
     },
     "execution_count": 7,
     "metadata": {},
     "output_type": "execute_result"
    },
    {
     "data": {
      "image/png": "[encoded data removed]",
      "text/plain": [
       "<matplotlib.figure.Figure at 0x7fefbfadf110>"
      ]
     },
     "metadata": {},
     "output_type": "display_data"
    }
   ],
   "source": [
    "margin = 0.5\n",
    "sims, losses = [], []\n",
    "for sim in [0.01 * x for x in range(-100, 101)]:\n",
    "    sims.append(sim)\n",
    "    losses.append(max(0, sim - margin))\n",
    "    \n",
    "loss_df = pd.DataFrame()\n",
    "loss_df[\"cosine similarity\"] = sims\n",
    "loss_df[\"loss\"] = losses\n",
    "loss_df.plot(x=\"cosine similarity\", y=\"loss\", figsize=(10,10))"
   ]
  },
  {
   "cell_type": "markdown",
   "metadata": {
    "deletable": true,
    "editable": true
   },
   "source": [
    "# Siamese network implementation"
   ]
  },
  {
   "cell_type": "code",
   "execution_count": 8,
   "metadata": {
    "collapsed": false,
    "deletable": true,
    "editable": true
   },
   "outputs": [],
   "source": [
    "class SiameseNetwork(nn.Module):  \n",
    "    def __init__(self,\n",
    "                 embedding_dim,\n",
    "                 word_vocab_size,\n",
    "                 hidden_size,\n",
    "                 data):\n",
    "        super(SiameseNetwork, self).__init__()\n",
    "        \n",
    "        self.hidden_size = hidden_size\n",
    "\n",
    "        self.word_emb = nn.Embedding(word_vocab_size, embedding_dim)\n",
    "        self.word_emb.weight.data.copy_(data.TEXT.vocab.vectors)\n",
    "        self.word_emb.weight.requires_grad = False\n",
    "        \n",
    "        self.conv_1 = nn.Conv1d(kernel_size=1, in_channels=embedding_dim, out_channels=self.hidden_size)\n",
    "        self.conv_2 = nn.Conv1d(kernel_size=3, in_channels=embedding_dim, out_channels=self.hidden_size)\n",
    "        self.conv_3 = nn.Conv1d(kernel_size=5, in_channels=embedding_dim, out_channels=self.hidden_size)\n",
    "        self.convs = [self.conv_1, self.conv_2, self.conv_3]\n",
    "        \n",
    "        self.criterion = torch.nn.CosineEmbeddingLoss(margin=0.8)\n",
    "        \n",
    "    def encode(self, question):\n",
    "        emb = self.word_emb(question)\n",
    "        emb_for_conv = emb.transpose(1, 2)\n",
    "        \n",
    "        pooled_outputs = []\n",
    "        for conv_layer in self.convs:\n",
    "            conv = conv_layer(emb_for_conv)\n",
    "            pooled_output = F.relu(F.max_pool1d(conv, conv.size(2))).squeeze(2)\n",
    "            pooled_outputs.append(pooled_output)\n",
    "            \n",
    "        return torch.cat(tuple(pooled_outputs), dim=1)\n",
    "\n",
    "    def forward(self, q1, q2):\n",
    "        encoded_q1 = self.encode(q1)\n",
    "        encoded_q2 = self.encode(q2)\n",
    "        return encoded_q1, encoded_q2\n",
    "    \n",
    "    def compute_batch_stats(self, model_output, batch):\n",
    "        \"\"\"Returns output, batch loss and number of correct predictions.\"\"\"\n",
    "        encoded_q1, encoded_q2 = model_output\n",
    "        \n",
    "        # Labels must are mapped from 0/1 to -1/1.\n",
    "        batch_loss = self.criterion(encoded_q1, encoded_q2, batch.label.float() * 2.0 - 1.0 )\n",
    "        \n",
    "        similarity = F.cosine_similarity(encoded_q1, encoded_q2)\n",
    "        predictions = similarity.clone()\n",
    "        predictions[similarity > 0.5] = 1\n",
    "        predictions[similarity <= 0.5] = 0\n",
    "        correct_predictions = (predictions.squeeze() == batch.label.float()).sum().float()\n",
    "        \n",
    "        return similarity, batch_loss, correct_predictions      "
   ]
  },
  {
   "cell_type": "markdown",
   "metadata": {
    "deletable": true,
    "editable": true
   },
   "source": [
    "# Multilayer Perceptron (MLP) baseline"
   ]
  },
  {
   "cell_type": "code",
   "execution_count": 9,
   "metadata": {
    "collapsed": false,
    "deletable": true,
    "editable": true
   },
   "outputs": [],
   "source": [
    "class Attention(nn.Module):  \n",
    "    def __init__(self,\n",
    "                 context_dim,\n",
    "                 hidden_dim,\n",
    "                 attn_size):\n",
    "        super(Attention, self).__init__()\n",
    "        self.context_proj = nn.Linear(context_dim, attn_size, bias=True)\n",
    "        self.hidden_proj = nn.Linear(hidden_dim, attn_size, bias=True)\n",
    "        self.attn = nn.Linear(attn_size, 1, bias=True)\n",
    "    \n",
    "    def forward(self,\n",
    "                context,  # batch x context_dim\n",
    "                embedded_sequence,  # batch x sequence_length x hidden_dim\n",
    "                mask=None,\n",
    "               ):\n",
    "        augmented_hidden_state = self.context_proj(context).unsqueeze(1) + self.hidden_proj(embedded_sequence)\n",
    "        augmented_hidden_state = context.unsqueeze(1) + embedded_sequence\n",
    "        attn_scores = F.tanh(self.attn(augmented_hidden_state))\n",
    "        \n",
    "        if mask is not None:\n",
    "            attn_scores.data.masked_fill_(mask.squeeze().byte().data, -9999.9)\n",
    "            \n",
    "        attn_scores = F.softmax(attn_scores)\n",
    "        return embedded_sequence * attn_scores\n",
    "\n",
    "class MLP(nn.Module):  \n",
    "    def __init__(self,\n",
    "                 embedding_dim,\n",
    "                 word_vocab_size,\n",
    "                 hidden_size,\n",
    "                 data,\n",
    "                 use_attention=False):\n",
    "        super(MLP, self).__init__()\n",
    "        \n",
    "        self.hidden_size = hidden_size\n",
    "        self.use_attention = use_attention\n",
    "\n",
    "        self.word_emb = nn.Embedding(word_vocab_size, embedding_dim)\n",
    "        self.word_emb.weight.data.copy_(data.TEXT.vocab.vectors)\n",
    "        self.word_emb.weight.requires_grad = False\n",
    "        \n",
    "        self.conv_1 = nn.Conv1d(kernel_size=3, in_channels=embedding_dim, out_channels=self.hidden_size, padding=1)\n",
    "        self.conv_2 = nn.Conv1d(kernel_size=3, in_channels=embedding_dim, out_channels=self.hidden_size, padding=1)\n",
    "        \n",
    "        self.attention = Attention(self.hidden_size, self.hidden_size, self.hidden_size)\n",
    "        \n",
    "        self.h1 = nn.Linear(self.hidden_size + self.hidden_size, 200, bias=True)\n",
    "        self.out = nn.Linear(200, 1, bias=True)\n",
    "        \n",
    "        self.criterion = nn.BCEWithLogitsLoss()\n",
    "\n",
    "    def forward(self, q1, q2):\n",
    "        encoded_q1 = self.conv_1(self.word_emb(q1).transpose(1, 2))\n",
    "        encoded_q2 = self.conv_2(self.word_emb(q2).transpose(1, 2))\n",
    "          \n",
    "        pooled_q1 = F.relu(F.max_pool1d(encoded_q1, encoded_q1.size(2))).squeeze(2)\n",
    "        \n",
    "        if self.use_attention:       \n",
    "            mask = torch.eq(q1, 1)  # <pad> id is 1\n",
    "            attended_q2 = self.attention(pooled_q1, encoded_q2.transpose(2, 1), mask)\n",
    "            attended_q2 = attended_q2.transpose(2, 1)\n",
    "            pooled_q2 = F.relu(F.max_pool1d(attended_q2, attended_q2.size(2))).squeeze(2)\n",
    "        else:\n",
    "            pooled_q2 = F.relu(F.max_pool1d(encoded_q2, encoded_q2.size(2))).squeeze(2)\n",
    "        \n",
    "        concat = torch.cat((pooled_q1, pooled_q2), dim=1)\n",
    "        \n",
    "        return self.out(self.h1(concat))\n",
    "    \n",
    "    def compute_batch_stats(self, model_output, batch):\n",
    "        \"\"\"Returns output, batch loss and number of correct predictions.\"\"\"\n",
    "        batch_loss = self.criterion(model_output, batch.label.float().view((-1, 1)))\n",
    "        \n",
    "        sigmoid_output = F.sigmoid(model_output)\n",
    "        predictions = sigmoid_output.clone()\n",
    "        predictions[sigmoid_output > 0.5] = 1\n",
    "        predictions[sigmoid_output <= 0.5] = 0\n",
    "        correct_predictions = (predictions.squeeze() == batch.label.float()).sum().float()\n",
    "        \n",
    "        return sigmoid_output, batch_loss, correct_predictions"
   ]
  },
  {
   "cell_type": "markdown",
   "metadata": {
    "deletable": true,
    "editable": true
   },
   "source": [
    "# Network instantiation"
   ]
  },
  {
   "cell_type": "code",
   "execution_count": 10,
   "metadata": {
    "collapsed": false,
    "deletable": true,
    "editable": true
   },
   "outputs": [
    {
     "name": "stdout",
     "output_type": "stream",
     "text": [
      "SiameseNetwork (\n",
      "  (word_emb): Embedding(107161, 300)\n",
      "  (conv_1): Conv1d(300, 100, kernel_size=(1,), stride=(1,))\n",
      "  (conv_2): Conv1d(300, 100, kernel_size=(3,), stride=(1,))\n",
      "  (conv_3): Conv1d(300, 100, kernel_size=(5,), stride=(1,))\n",
      "  (criterion): CosineEmbeddingLoss (\n",
      "  )\n",
      ")\n"
     ]
    }
   ],
   "source": [
    "mode = 'siamese'\n",
    "\n",
    "if mode == 'siamese':\n",
    "    network = SiameseNetwork(embedding_dim, word_vocab_size, hidden_size, dataset)\n",
    "else:\n",
    "    network = MLP(embedding_dim, word_vocab_size, hidden_size, dataset, use_attention=True)\n",
    "\n",
    "if torch.cuda.is_available():\n",
    "    network = network.cuda()\n",
    "\n",
    "# Collect the parameters to update.\n",
    "parameters = filter(lambda p: p.requires_grad, network.parameters())\n",
    "\n",
    "optimizer = torch.optim.Adam(parameters, lr=learning_rate)\n",
    "\n",
    "network.train()\n",
    "loss, last_epoch = 0, -1\n",
    "max_dev_acc, max_test_acc = 0, 0\n",
    "\n",
    "best_model = copy.deepcopy(network)\n",
    "\n",
    "print(network)"
   ]
  },
  {
   "cell_type": "markdown",
   "metadata": {
    "deletable": true,
    "editable": true
   },
   "source": [
    "# Testing procedure"
   ]
  },
  {
   "cell_type": "code",
   "execution_count": 11,
   "metadata": {
    "collapsed": true,
    "deletable": true,
    "editable": true
   },
   "outputs": [],
   "source": [
    "def test(model, data, max_sent_len, mode='test'):\n",
    "    if mode == 'dev':\n",
    "        iterator = iter(data.dev_iter)\n",
    "    else:\n",
    "        iterator = iter(data.test_iter)\n",
    "    model.eval()\n",
    "    \n",
    "    correct_predictions, loss, number_of_samples = 0, 0, 0\n",
    "    for batch in iterator:\n",
    "        s1, s2 = 'q1', 'q2'\n",
    "        s1, s2 = getattr(batch, s1), getattr(batch, s2)\n",
    "        model_output = model(s1, s2)\n",
    "        \n",
    "        output, batch_loss, batch_correct_predictions = model.compute_batch_stats(model_output, batch)\n",
    "\n",
    "        correct_predictions += batch_correct_predictions\n",
    "        number_of_samples += len(output)\n",
    "        loss += batch_loss.data[0]\n",
    "\n",
    "    acc = correct_predictions / number_of_samples\n",
    "    acc = acc.cpu().data[0]\n",
    "    \n",
    "    return loss, acc"
   ]
  },
  {
   "cell_type": "markdown",
   "metadata": {
    "deletable": true,
    "editable": true
   },
   "source": [
    "# Training procedure"
   ]
  },
  {
   "cell_type": "code",
   "execution_count": 12,
   "metadata": {
    "collapsed": false,
    "deletable": true,
    "editable": true
   },
   "outputs": [
    {
     "name": "stdout",
     "output_type": "stream",
     "text": [
      "[INFO] Starting training...\n",
      "[INFO] Epoch: 1\n",
      "[INFO] train loss: 58.97 / dev loss: 19.10 / test loss: 19.19 / dev acc: 51.06 / test acc: 51.32\n",
      "[INFO] train loss: 53.52 / dev loss: 18.09 / test loss: 18.13 / dev acc: 50.76 / test acc: 51.03\n",
      "[INFO] train loss: 52.37 / dev loss: 17.77 / test loss: 17.86 / dev acc: 52.47 / test acc: 52.60\n",
      "[INFO] train loss: 50.90 / dev loss: 17.34 / test loss: 17.50 / dev acc: 52.67 / test acc: 52.90\n",
      "[INFO] train loss: 49.91 / dev loss: 17.10 / test loss: 17.26 / dev acc: 52.84 / test acc: 52.79\n",
      "[INFO] train loss: 49.22 / dev loss: 17.16 / test loss: 17.36 / dev acc: 53.04 / test acc: 53.32\n",
      "[INFO] train loss: 49.22 / dev loss: 16.85 / test loss: 17.02 / dev acc: 53.13 / test acc: 53.23\n",
      "[INFO] train loss: 48.70 / dev loss: 16.75 / test loss: 16.87 / dev acc: 53.99 / test acc: 54.12\n",
      "[INFO] train loss: 47.98 / dev loss: 16.41 / test loss: 16.58 / dev acc: 53.37 / test acc: 53.63\n",
      "[INFO] train loss: 47.67 / dev loss: 16.82 / test loss: 16.97 / dev acc: 54.31 / test acc: 54.33\n",
      "[INFO] train loss: 47.73 / dev loss: 16.41 / test loss: 16.54 / dev acc: 53.93 / test acc: 54.03\n",
      "[INFO] train loss: 47.03 / dev loss: 16.44 / test loss: 16.68 / dev acc: 54.77 / test acc: 54.55\n",
      "[INFO] Epoch: 2\n",
      "[INFO] train loss: 44.88 / dev loss: 15.85 / test loss: 16.05 / dev acc: 52.73 / test acc: 53.03\n",
      "[INFO] train loss: 45.43 / dev loss: 15.92 / test loss: 16.10 / dev acc: 53.72 / test acc: 53.83\n",
      "[INFO] train loss: 44.92 / dev loss: 15.74 / test loss: 16.08 / dev acc: 53.72 / test acc: 53.99\n",
      "[INFO] train loss: 44.55 / dev loss: 15.77 / test loss: 15.99 / dev acc: 53.78 / test acc: 54.06\n",
      "[INFO] train loss: 44.34 / dev loss: 15.75 / test loss: 15.89 / dev acc: 53.49 / test acc: 53.73\n",
      "[INFO] train loss: 44.57 / dev loss: 15.71 / test loss: 15.85 / dev acc: 54.04 / test acc: 54.15\n",
      "[INFO] train loss: 43.85 / dev loss: 15.56 / test loss: 15.64 / dev acc: 53.59 / test acc: 54.04\n",
      "[INFO] train loss: 44.16 / dev loss: 15.80 / test loss: 15.85 / dev acc: 54.83 / test acc: 54.89\n",
      "[INFO] train loss: 44.28 / dev loss: 15.82 / test loss: 15.89 / dev acc: 54.44 / test acc: 54.40\n",
      "[INFO] train loss: 44.37 / dev loss: 15.54 / test loss: 15.76 / dev acc: 54.32 / test acc: 54.20\n",
      "[INFO] train loss: 43.86 / dev loss: 15.48 / test loss: 15.62 / dev acc: 53.55 / test acc: 53.59\n",
      "[INFO] train loss: 44.12 / dev loss: 15.44 / test loss: 15.65 / dev acc: 54.55 / test acc: 54.46\n",
      "[INFO] Epoch: 3\n",
      "[INFO] train loss: 41.34 / dev loss: 15.39 / test loss: 15.57 / dev acc: 54.19 / test acc: 54.25\n",
      "[INFO] train loss: 41.60 / dev loss: 15.50 / test loss: 15.78 / dev acc: 55.23 / test acc: 55.42\n",
      "[INFO] train loss: 41.77 / dev loss: 15.93 / test loss: 16.04 / dev acc: 56.62 / test acc: 56.79\n",
      "[INFO] train loss: 41.70 / dev loss: 15.10 / test loss: 15.37 / dev acc: 54.11 / test acc: 54.45\n",
      "[INFO] train loss: 41.35 / dev loss: 15.30 / test loss: 15.44 / dev acc: 54.85 / test acc: 55.02\n",
      "[INFO] train loss: 42.08 / dev loss: 15.49 / test loss: 15.75 / dev acc: 55.42 / test acc: 55.71\n",
      "[INFO] train loss: 41.40 / dev loss: 15.05 / test loss: 15.29 / dev acc: 54.47 / test acc: 54.93\n",
      "[INFO] train loss: 41.17 / dev loss: 14.90 / test loss: 15.10 / dev acc: 54.12 / test acc: 54.48\n",
      "[INFO] train loss: 41.77 / dev loss: 15.33 / test loss: 15.50 / dev acc: 55.67 / test acc: 55.99\n",
      "[INFO] train loss: 42.17 / dev loss: 14.90 / test loss: 14.94 / dev acc: 53.46 / test acc: 53.63\n",
      "[INFO] train loss: 41.45 / dev loss: 15.23 / test loss: 15.33 / dev acc: 55.72 / test acc: 55.73\n",
      "[INFO] train loss: 41.88 / dev loss: 15.26 / test loss: 15.40 / dev acc: 55.46 / test acc: 55.70\n",
      "[INFO] max dev acc: 56.62 / max test acc: 56.79\n",
      "[INFO] Training finished!\n"
     ]
    }
   ],
   "source": [
    "print('[INFO] Starting training...')\n",
    "\n",
    "iterator = dataset.train_iter\n",
    "\n",
    "for i, batch in enumerate(iterator):\n",
    "    current_epoch = int(iterator.epoch)\n",
    "    if current_epoch == num_epochs:\n",
    "        break\n",
    "    if current_epoch > last_epoch:\n",
    "        print('[INFO] Epoch: {}'.format(current_epoch + 1))\n",
    "    last_epoch = current_epoch\n",
    "    \n",
    "    s1, s2 = 'q1', 'q2'\n",
    "    s1, s2 = getattr(batch, s1), getattr(batch, s2)\n",
    "\n",
    "    model_output = network(s1, s2)\n",
    "    optimizer.zero_grad()\n",
    "    \n",
    "    output, batch_loss, batch_correct_predictions = network.compute_batch_stats(model_output, batch)\n",
    "    \n",
    "    loss += batch_loss.data[0]\n",
    "    batch_loss.backward()       \n",
    "\n",
    "    optimizer.step()\n",
    "    \n",
    "    if (i + 1) % print_freq == 0:\n",
    "        dev_loss, dev_acc = test(network, dataset, max_sent_len, mode='dev')\n",
    "        test_loss, test_acc = test(network, dataset, max_sent_len)\n",
    "        c = (i + 1) // print_freq\n",
    "\n",
    "        print('[INFO] train loss: {:.2f} / dev loss: {:.2f} / test loss: {:.2f}'\n",
    "              ' / dev acc: {:.2f} / test acc: {:.2f}'.format(loss, dev_loss,\n",
    "                                                             test_loss,\n",
    "                                                             dev_acc * 100,\n",
    "                                                             test_acc * 100))\n",
    "\n",
    "        if dev_acc > max_dev_acc:\n",
    "            max_dev_acc = dev_acc\n",
    "            max_test_acc = test_acc\n",
    "            best_model = copy.deepcopy(network)\n",
    "\n",
    "        loss = 0\n",
    "        network.train()\n",
    "\n",
    "print('[INFO] max dev acc: {:.2f} / max test acc: {:.2f}'.format(max_dev_acc * 100,\n",
    "                                                                 max_test_acc * 100))\n",
    "\n",
    "if not os.path.exists('saved_models'):\n",
    "    os.makedirs('saved_models')\n",
    "    \n",
    "torch.save(best_model.state_dict(), 'saved_models/network_quora.pt')\n",
    "\n",
    "print('[INFO] Training finished!')"
   ]
  },
  {
   "cell_type": "markdown",
   "metadata": {
    "deletable": true,
    "editable": true
   },
   "source": [
    "# Exploration of the cutting point for computing the accuracy\n",
    "\n",
    "As you can see from the accuracy above, the results seem a bit disappointing. The problem is that the threshold at which the similarities are binarized is 0.5, and the distance at which the network tries to put different examples is at least 0.8. Let's compute the accuracies varying the cutting point."
   ]
  },
  {
   "cell_type": "code",
   "execution_count": 13,
   "metadata": {
    "collapsed": false,
    "deletable": true,
    "editable": true
   },
   "outputs": [],
   "source": [
    "def predict_on_dataset(dataset_iterator):\n",
    "    similarities = []\n",
    "    labels = []\n",
    "    for batch in dataset_iterator:\n",
    "        s1, s2 = 'q1', 'q2'\n",
    "        s1, s2 = getattr(batch, s1), getattr(batch, s2)\n",
    "\n",
    "        model_output = best_model(s1, s2)\n",
    "        encoded_q1, encoded_q2 = model_output\n",
    "\n",
    "        similarity = F.cosine_similarity(encoded_q1, encoded_q2)\n",
    "\n",
    "        similarities.extend(similarity)\n",
    "        labels.extend(batch.label)\n",
    "        \n",
    "    similarities = torch.cat(similarities)\n",
    "    labels = torch.cat(labels)\n",
    "    \n",
    "    return similarities, labels"
   ]
  },
  {
   "cell_type": "markdown",
   "metadata": {
    "deletable": true,
    "editable": true
   },
   "source": [
    "## Compute predictions on dev and test data"
   ]
  },
  {
   "cell_type": "code",
   "execution_count": 14,
   "metadata": {
    "collapsed": false,
    "deletable": true,
    "editable": true
   },
   "outputs": [],
   "source": [
    "dev_similarities, dev_labels = predict_on_dataset(iter(dataset.dev_iter))\n",
    "test_similarities, test_labels = predict_on_dataset(iter(dataset.test_iter))"
   ]
  },
  {
   "cell_type": "markdown",
   "metadata": {
    "deletable": true,
    "editable": true
   },
   "source": [
    "## Plot the accuracy at different cuts"
   ]
  },
  {
   "cell_type": "code",
   "execution_count": 15,
   "metadata": {
    "collapsed": true,
    "deletable": true,
    "editable": true
   },
   "outputs": [],
   "source": [
    "def compute_accuracy(predictions, labels, cut):\n",
    "    preds = predictions.data.cpu().numpy().tolist()\n",
    "    lbs = labels.data.cpu().numpy().tolist()\n",
    "    correct_predictions = 0\n",
    "    number_of_predictions = 0\n",
    "    for pred, lb in zip(preds, lbs):\n",
    "        pred_lb = 1 if pred > cut else 0\n",
    "        if pred_lb == lb:\n",
    "            correct_predictions += 1\n",
    "        number_of_predictions += 1\n",
    "\n",
    "    accuracy = correct_predictions / float(number_of_predictions)\n",
    "    return accuracy * 100\n",
    "\n",
    "def find_best_accuracy(similarities, labels):\n",
    "    cuts = []\n",
    "    accuracies = []\n",
    "    max_accuracy, max_cut = 0.0, 0.0\n",
    "    for cut in [0.01 * i for i in range(0, 101)]:\n",
    "        accuracy = compute_accuracy(similarities, labels, cut)\n",
    "        cuts.append(cut)\n",
    "        accuracies.append(accuracy)\n",
    "\n",
    "        if accuracy > max_accuracy:\n",
    "            max_accuracy = accuracy\n",
    "            max_cut = cut\n",
    "\n",
    "    cut_accuracy_df = pd.DataFrame()\n",
    "    cut_accuracy_df[\"cut\"] = cuts\n",
    "    cut_accuracy_df[\"accuracy\"] = accuracies\n",
    "    cut_accuracy_df.plot(x=\"cut\", y=\"accuracy\", figsize=(10,10))\n",
    "\n",
    "    return max_cut, max_accuracy"
   ]
  },
  {
   "cell_type": "markdown",
   "metadata": {
    "deletable": true,
    "editable": true
   },
   "source": [
    "## Find the best accuracy on the development set"
   ]
  },
  {
   "cell_type": "code",
   "execution_count": 16,
   "metadata": {
    "collapsed": false,
    "deletable": true,
    "editable": true
   },
   "outputs": [
    {
     "name": "stdout",
     "output_type": "stream",
     "text": [
      "[INFO] Best dev accuracy at cut 0.85: 81.91\n"
     ]
    },
    {
     "data": {
      "image/png": "[encoded data removed]",
      "text/plain": [
       "<matplotlib.figure.Figure at 0x7fefbfab6b10>"
      ]
     },
     "metadata": {},
     "output_type": "display_data"
    }
   ],
   "source": [
    "best_dev_cut, best_dev_accuracy = find_best_accuracy(dev_similarities, dev_labels)\n",
    "print(\"[INFO] Best dev accuracy at cut {}: {}\".format(best_dev_cut, best_dev_accuracy))"
   ]
  },
  {
   "cell_type": "code",
   "execution_count": 17,
   "metadata": {
    "collapsed": false,
    "deletable": true,
    "editable": true
   },
   "outputs": [
    {
     "name": "stdout",
     "output_type": "stream",
     "text": [
      "[INFO] Best test accuracy at cut 0.86: 81.72\n"
     ]
    },
    {
     "data": {
      "image/png": "[encoded data removed]",
      "text/plain": [
       "<matplotlib.figure.Figure at 0x7fefbfc28990>"
      ]
     },
     "metadata": {},
     "output_type": "display_data"
    }
   ],
   "source": [
    "best_test_cut, best_test_accuracy = find_best_accuracy(test_similarities, test_labels)\n",
    "print(\"[INFO] Best test accuracy at cut {}: {}\".format(best_test_cut, best_test_accuracy))"
   ]
  },
  {
   "cell_type": "code",
   "execution_count": 18,
   "metadata": {
    "collapsed": false,
    "deletable": true,
    "editable": true
   },
   "outputs": [
    {
     "name": "stdout",
     "output_type": "stream",
     "text": [
      "[INFO] Test accuracy at best dev cut: 81.61\n"
     ]
    }
   ],
   "source": [
    "print(\"[INFO] Test accuracy at best dev cut: {}\".format(compute_accuracy(test_similarities, test_labels, best_dev_cut)))"
   ]
  },
  {
   "cell_type": "markdown",
   "metadata": {
    "deletable": true,
    "editable": true
   },
   "source": [
    "# Loss on triplets\n",
    "\n",
    "Each training instance is composed by three item:\n",
    "\n",
    "1. A first item that we call target (e.g., target question)\n",
    "2. A second item which is related to the target item (e.g., question similar to the target question)\n",
    "3. A third item which is NOT related to the target item (e.g., question unrelated to the target question)\n",
    "\n",
    "Question: how do we create training instances?\n",
    "\n",
    "* Use available positive pairs and related negative items if present\n",
    "* Randomly sample a negative example (negative sampling)\n",
    "* Select a negative example according to a score (most similar negative example, most difficult negative example for the current network)"
   ]
  },
  {
   "cell_type": "markdown",
   "metadata": {
    "deletable": true,
    "editable": true
   },
   "source": [
    "## Siamese triplet loss ([Wang et al. 2014](https://arxiv.org/abs/1404.4661))\n",
    "\n",
    "### $max\\{0, M - (cos(E(q), E(q^{+}))\\} - (cos(E(q), E(q^{-}))$"
   ]
  },
  {
   "cell_type": "markdown",
   "metadata": {
    "deletable": true,
    "editable": true
   },
   "source": [
    "## Twin loss\n",
    "\n",
    "### $max\\{0, M_{1} - (cos(E(q), E(q^{+}))\\} + max\\{0, (cos(E(q), E(q^-)) - M_{2}\\}$"
   ]
  },
  {
   "cell_type": "markdown",
   "metadata": {
    "deletable": true,
    "editable": true
   },
   "source": [
    "# ATTENTION MECHANISMS"
   ]
  },
  {
   "cell_type": "markdown",
   "metadata": {
    "deletable": true,
    "editable": true
   },
   "source": [
    "## Computing the attention\n",
    "\n",
    "In this section we will apply the attention mechanism to compute a representation of second question which is conditioned on the first question, similar to the following paper: [Improved Representation Learning for Question Answer Matching](http://www.aclweb.org/anthology/P16-1044)\n",
    "\n",
    "<img src=\"figures/attentive-network.png\" alt=\"Attentive network\" style=\"width: 500px;\"/>\n",
    "\n",
    "In this figure, the question and answer are encoded with a recurrent network which outputs a hidden state for each token (we use wide convolutions to obtain hidden states). Then, the question hidden states are pooled to obtain a single vector. The latter is used in the attention network to compute a scalar value for each answer hidden state. This value is then used to rescale the corresponding hidden state. In equations:\n",
    "\n",
    "<img src=\"figures/attention.png\" alt=\"Attentive network\" style=\"width: 400px;\"/>"
   ]
  },
  {
   "cell_type": "code",
   "execution_count": 19,
   "metadata": {
    "collapsed": false,
    "deletable": true,
    "editable": true
   },
   "outputs": [],
   "source": [
    "class Attention(nn.Module):  \n",
    "    def __init__(self,\n",
    "                 context_dim,\n",
    "                 hidden_dim,\n",
    "                 attn_size):\n",
    "        super(Attention, self).__init__()\n",
    "        self.context_proj = nn.Linear(context_dim, attn_size, bias=True)\n",
    "        self.hidden_proj = nn.Linear(hidden_dim, attn_size, bias=True)\n",
    "        self.attn = nn.Linear(attn_size, 1, bias=True)\n",
    "    \n",
    "    def forward(self,\n",
    "                context,  # batch x context_dim\n",
    "                embedded_sequence,  # batch x sequence_length x hidden_dim\n",
    "                mask=None,\n",
    "               ):\n",
    "        augmented_hidden_state = self.context_proj(context).unsqueeze(1) + self.hidden_proj(embedded_sequence)\n",
    "        augmented_hidden_state = context.unsqueeze(1) + embedded_sequence\n",
    "        attn_scores = F.tanh(self.attn(augmented_hidden_state))\n",
    "        \n",
    "        if mask is not None:\n",
    "            attn_scores.data.masked_fill_(mask.byte().data, -9999.9)\n",
    "            \n",
    "        attn_scores = F.softmax(attn_scores)\n",
    "        return embedded_sequence * attn_scores"
   ]
  }
 ],
 "metadata": {
  "kernelspec": {
   "display_name": "Python 2",
   "language": "python",
   "name": "python2"
  },
  "language_info": {
   "codemirror_mode": {
    "name": "ipython",
    "version": 2
   },
   "file_extension": ".py",
   "mimetype": "text/x-python",
   "name": "python",
   "nbconvert_exporter": "python",
   "pygments_lexer": "ipython2",
   "version": "2.7.12"
  }
 },
 "nbformat": 4,
 "nbformat_minor": 2
}
