{
 "cells": [
  {
   "cell_type": "markdown",
   "metadata": {},
   "source": [
    "# The first neural network\n",
    "\n",
    "We want to build a neural network to perform a basic xor operation, the network is defined as follow:\n",
    "\n",
    "    - it takes as input vectors x of dimension 2.\n",
    "    - an hidden layer non linearly transform vector two a 4-dimensional vector.\n",
    "    - the vector is given as input to a logistic regression that produces the output"
   ]
  },
  {
   "cell_type": "markdown",
   "metadata": {},
   "source": [
    "$f(x) = \\sigma(\\sigma(xW_1 + b_1)W_2 + b_2)$"
   ]
  },
  {
   "cell_type": "markdown",
   "metadata": {},
   "source": [
    "let's start by initializing the learnable weights"
   ]
  },
  {
   "cell_type": "code",
   "execution_count": 2,
   "metadata": {},
   "outputs": [],
   "source": [
    "import torch"
   ]
  },
  {
   "cell_type": "code",
   "execution_count": 3,
   "metadata": {},
   "outputs": [
    {
     "data": {
      "text/plain": [
       "(tensor([[ 0.6701,  0.6276,  0.0528,  0.1514],\n",
       "         [ 0.0269,  0.5575,  0.3007,  0.7299]]),\n",
       " tensor([ 0.2402,  0.1666,  0.5950,  0.1036]))"
      ]
     },
     "execution_count": 3,
     "metadata": {},
     "output_type": "execute_result"
    }
   ],
   "source": [
    "W1 = torch.rand(2, 4, requires_grad=True)\n",
    "b1 = torch.rand(4, requires_grad=True)\n",
    "W1, b1"
   ]
  },
  {
   "cell_type": "code",
   "execution_count": 4,
   "metadata": {},
   "outputs": [
    {
     "data": {
      "text/plain": [
       "(tensor([[ 0.7847],\n",
       "         [ 0.9579],\n",
       "         [ 0.2046],\n",
       "         [ 0.6609]]), tensor(1.00000e-02 *\n",
       "        [ 5.1208]))"
      ]
     },
     "execution_count": 4,
     "metadata": {},
     "output_type": "execute_result"
    }
   ],
   "source": [
    "W2 = torch.rand(4, 1, requires_grad=True)\n",
    "b2 = torch.rand(1, requires_grad=True)\n",
    "W2, b2"
   ]
  },
  {
   "cell_type": "markdown",
   "metadata": {},
   "source": [
    "and the sigmoid function:"
   ]
  },
  {
   "cell_type": "code",
   "execution_count": 5,
   "metadata": {},
   "outputs": [
    {
     "data": {
      "text/plain": [
       "tensor([ 0.7311,  0.8808,  0.9526,  0.0474])"
      ]
     },
     "execution_count": 5,
     "metadata": {},
     "output_type": "execute_result"
    }
   ],
   "source": [
    "def sigmoid(x):\n",
    "    return 1 / (1 + torch.exp(-x))\n",
    "\n",
    "sigmoid(torch.Tensor([1, 2, 3, -3]))"
   ]
  },
  {
   "cell_type": "markdown",
   "metadata": {},
   "source": [
    "Prepare the dataset:"
   ]
  },
  {
   "cell_type": "code",
   "execution_count": 6,
   "metadata": {},
   "outputs": [],
   "source": [
    "def dataset(n):\n",
    "    import random\n",
    "    for _ in range(n):\n",
    "        x1 = random.choice([0, 1])\n",
    "        x2 = random.choice([0, 1])\n",
    "        y = int(bool(x1)^bool(x2))\n",
    "        yield torch.FloatTensor([x1, x2]), torch.FloatTensor([y])"
   ]
  },
  {
   "cell_type": "markdown",
   "metadata": {},
   "source": [
    "train the network:"
   ]
  },
  {
   "cell_type": "code",
   "execution_count": 7,
   "metadata": {},
   "outputs": [
    {
     "name": "stdout",
     "output_type": "stream",
     "text": [
      "0.708\n",
      "0.696\n",
      "0.689\n",
      "0.667\n",
      "0.611\n",
      "0.532\n",
      "0.440\n",
      "0.312\n",
      "0.199\n",
      "0.127\n"
     ]
    }
   ],
   "source": [
    "running_loss = 0\n",
    "for i, (x, y) in enumerate(dataset(10000)):\n",
    "    h1 = sigmoid(x @ W1 + b1)\n",
    "    out = sigmoid(h1 @ W2 + b2)\n",
    "    \n",
    "    \n",
    "    loss = -(y * torch.log(out) + (1 - y) * torch.log((1 - out)))\n",
    "    \n",
    "    if i%1000 == 999:\n",
    "        print('{:.3f}'.format(running_loss/1000))\n",
    "        running_loss = 0\n",
    "    running_loss += loss.data[0]\n",
    "    \n",
    "    loss.backward()\n",
    "    \n",
    "    W1.data -=  0.05 * W1.grad.data\n",
    "    b1.data -=  0.05 * b1.grad.data\n",
    "    \n",
    "    W2.data -=  0.05 * W2.grad.data\n",
    "    b2.data -=  0.05 * b2.grad.data\n",
    "    \n",
    "    W1.grad.data.zero_()\n",
    "    b1.grad.data.zero_()\n",
    "    \n",
    "    W2.grad.data.zero_()\n",
    "    b2.grad.data.zero_()\n"
   ]
  },
  {
   "cell_type": "code",
   "execution_count": null,
   "metadata": {},
   "outputs": [],
   "source": []
  },
  {
   "cell_type": "code",
   "execution_count": 8,
   "metadata": {},
   "outputs": [],
   "source": [
    "x = torch.FloatTensor([1, 1])"
   ]
  },
  {
   "cell_type": "code",
   "execution_count": 9,
   "metadata": {},
   "outputs": [],
   "source": [
    "h1 = sigmoid(x @ W1 + b1)\n",
    "out = sigmoid(h1 @ W2 + b2)\n",
    "    "
   ]
  },
  {
   "cell_type": "code",
   "execution_count": 10,
   "metadata": {},
   "outputs": [
    {
     "data": {
      "text/plain": [
       "(tensor([ 1.,  1.]),\n",
       " tensor([ 0.7267,  0.9999,  0.7104,  0.7552]),\n",
       " tensor([ 0.1113]))"
      ]
     },
     "execution_count": 10,
     "metadata": {},
     "output_type": "execute_result"
    }
   ],
   "source": [
    "x, h1, out"
   ]
  },
  {
   "cell_type": "code",
   "execution_count": 11,
   "metadata": {},
   "outputs": [
    {
     "data": {
      "text/plain": [
       "(tensor([[ 1.8405,  5.8679,  0.9192,  2.3144],\n",
       "         [ 0.8119,  5.8647,  1.6645,  2.4469]]),\n",
       " tensor([-1.6743, -2.4024, -1.6863, -3.6347]))"
      ]
     },
     "execution_count": 11,
     "metadata": {},
     "output_type": "execute_result"
    }
   ],
   "source": [
    "W1, b1"
   ]
  },
  {
   "cell_type": "code",
   "execution_count": 12,
   "metadata": {},
   "outputs": [
    {
     "data": {
      "text/plain": [
       "(tensor([[-3.1569],\n",
       "         [ 8.1206],\n",
       "         [-3.2604],\n",
       "         [-4.8421]]), tensor([-1.9302]))"
      ]
     },
     "execution_count": 12,
     "metadata": {},
     "output_type": "execute_result"
    }
   ],
   "source": [
    "W2, b2"
   ]
  },
  {
   "cell_type": "code",
   "execution_count": null,
   "metadata": {},
   "outputs": [],
   "source": []
  },
  {
   "cell_type": "code",
   "execution_count": null,
   "metadata": {},
   "outputs": [],
   "source": []
  },
  {
   "cell_type": "code",
   "execution_count": null,
   "metadata": {},
   "outputs": [],
   "source": []
  }
 ],
 "metadata": {
  "kernelspec": {
   "display_name": "Python 3",
   "language": "python",
   "name": "python3"
  },
  "language_info": {
   "codemirror_mode": {
    "name": "ipython",
    "version": 3
   },
   "file_extension": ".py",
   "mimetype": "text/x-python",
   "name": "python",
   "nbconvert_exporter": "python",
   "pygments_lexer": "ipython3",
   "version": "3.6.5"
  }
 },
 "nbformat": 4,
 "nbformat_minor": 2
}
