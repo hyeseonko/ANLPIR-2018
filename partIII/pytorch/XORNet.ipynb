{
 "cells": [
  {
   "cell_type": "code",
   "execution_count": 1,
   "metadata": {},
   "outputs": [],
   "source": [
    "import torch\n",
    "import torch.nn as nn\n",
    "import torch.nn.functional as F"
   ]
  },
  {
   "cell_type": "code",
   "execution_count": 2,
   "metadata": {},
   "outputs": [],
   "source": [
    "class XORNet(nn.Module):\n",
    "    \n",
    "    def __init__(self):\n",
    "        super(XORNet, self).__init__()\n",
    "        self.hidden = nn.Linear(2, 4)\n",
    "        self.output = nn.Linear(4, 1)\n",
    "        \n",
    "    def forward(self, x):\n",
    "        h1 =  F.sigmoid(self.hidden(x))\n",
    "        return F.sigmoid(self.output(h1))\n",
    "        \n"
   ]
  },
  {
   "cell_type": "code",
   "execution_count": 3,
   "metadata": {},
   "outputs": [],
   "source": [
    "def dataset(n):\n",
    "    import random\n",
    "    for _ in range(n):\n",
    "        x1 = random.choice([0, 1])\n",
    "        x2 = random.choice([0, 1])\n",
    "        y = int(bool(x1)^bool(x2))\n",
    "        yield torch.FloatTensor([[x1, x2]]), torch.FloatTensor([[y]])"
   ]
  },
  {
   "cell_type": "code",
   "execution_count": 4,
   "metadata": {},
   "outputs": [
    {
     "name": "stdout",
     "output_type": "stream",
     "text": [
      "XORNet(\n",
      "  (hidden): Linear(in_features=2, out_features=4, bias=True)\n",
      "  (output): Linear(in_features=4, out_features=1, bias=True)\n",
      ")\n",
      "0.510\n",
      "0.053\n",
      "0.014\n",
      "0.008\n",
      "0.005\n",
      "0.004\n",
      "0.003\n",
      "0.003\n",
      "0.002\n",
      "0.002\n",
      "1.23 sec\n"
     ]
    }
   ],
   "source": [
    "mdl = XORNet()\n",
    "criterion = nn.BCELoss()\n",
    "optimizer = torch.optim.SGD(mdl.parameters(), lr=0.5)\n",
    "print(mdl)\n",
    "running_loss = 0\n",
    "import time \n",
    "start = time.time()\n",
    "for i, (x, y) in enumerate(dataset(10000)):\n",
    "    optimizer.zero_grad()\n",
    "    out = mdl(x)\n",
    "    loss = criterion(out, y)\n",
    "    if i%1000 == 999:\n",
    "        print('{:.3f}'.format(running_loss/1000))\n",
    "        running_loss = 0\n",
    "    running_loss += loss.item()\n",
    "    loss.backward()\n",
    "    optimizer.step()\n",
    "print('{:.2f} sec'.format(time.time()-start))"
   ]
  },
  {
   "cell_type": "code",
   "execution_count": 5,
   "metadata": {},
   "outputs": [
    {
     "data": {
      "text/plain": [
       "tensor(1.00000e-03 *\n",
       "       [ 3.0413])"
      ]
     },
     "execution_count": 5,
     "metadata": {},
     "output_type": "execute_result"
    }
   ],
   "source": [
    "x = torch.FloatTensor([1, 1])\n",
    "mdl(x)"
   ]
  },
  {
   "cell_type": "code",
   "execution_count": 6,
   "metadata": {},
   "outputs": [
    {
     "name": "stdout",
     "output_type": "stream",
     "text": [
      "XORNet(\n",
      "  (hidden): Linear(in_features=2, out_features=4, bias=True)\n",
      "  (output): Linear(in_features=4, out_features=1, bias=True)\n",
      ")\n",
      "0.631\n",
      "0.080\n",
      "0.014\n",
      "0.007\n",
      "0.005\n",
      "0.004\n",
      "0.003\n",
      "0.002\n",
      "0.002\n",
      "0.002\n",
      "5.99 sec\n"
     ]
    }
   ],
   "source": [
    "device = torch.device(\"cuda:0\" if torch.cuda.is_available() else \"cpu\")\n",
    "mdl = XORNet().to(device)\n",
    "criterion = nn.BCELoss()\n",
    "optimizer = torch.optim.SGD(mdl.parameters(), lr=0.5)\n",
    "print(mdl)\n",
    "\n",
    "import time \n",
    "start = time.time()\n",
    "for i,(x, y) in enumerate(dataset(10000)):\n",
    "    optimizer.zero_grad()\n",
    "    out = mdl(x.to(device))\n",
    "    loss = criterion(out, y.to(device))\n",
    "    if i%1000 == 999:\n",
    "        print('{:.3f}'.format(running_loss/1000))\n",
    "        running_loss = 0\n",
    "    running_loss += loss.item()\n",
    "    loss.backward()\n",
    "    optimizer.step()\n",
    "print('{:.2f} sec'.format(time.time()-start))"
   ]
  },
  {
   "cell_type": "code",
   "execution_count": 7,
   "metadata": {},
   "outputs": [
    {
     "data": {
      "text/plain": [
       "tensor(1.00000e-03 *\n",
       "       [ 3.5465], device='cuda:0')"
      ]
     },
     "execution_count": 7,
     "metadata": {},
     "output_type": "execute_result"
    }
   ],
   "source": [
    "x = torch.FloatTensor([1, 1]).to(device)\n",
    "mdl(x)"
   ]
  },
  {
   "cell_type": "code",
   "execution_count": 8,
   "metadata": {},
   "outputs": [
    {
     "data": {
      "text/plain": [
       "tensor(1.00000e-03 *\n",
       "       [ 3.5465])"
      ]
     },
     "execution_count": 8,
     "metadata": {},
     "output_type": "execute_result"
    }
   ],
   "source": [
    "x = torch.FloatTensor([1, 1])\n",
    "mdl.to('cpu')\n",
    "mdl(x)"
   ]
  },
  {
   "cell_type": "code",
   "execution_count": 9,
   "metadata": {},
   "outputs": [],
   "source": [
    "def batched_dataset(n, batch_size=32):\n",
    "    import random\n",
    "    b_x, b_y = [], []\n",
    "    for i in range(n):\n",
    "        if i%batch_size == batch_size-1:\n",
    "            yield torch.FloatTensor(b_x), torch.FloatTensor(b_y)\n",
    "            b_x, b_y = [], []\n",
    "        x1 = random.choice([0, 1])\n",
    "        x2 = random.choice([0, 1])\n",
    "        y = int(bool(x1)^bool(x2))\n",
    "        b_x.append([x1, x2])\n",
    "        b_y.append([y])\n",
    "    yield torch.FloatTensor(b_x), torch.FloatTensor(b_y)\n",
    "    "
   ]
  },
  {
   "cell_type": "code",
   "execution_count": 13,
   "metadata": {},
   "outputs": [
    {
     "name": "stdout",
     "output_type": "stream",
     "text": [
      "XORNet(\n",
      "  (hidden): Linear(in_features=2, out_features=4, bias=True)\n",
      "  (output): Linear(in_features=4, out_features=1, bias=True)\n",
      ")\n",
      "0.959\n",
      "0.690\n",
      "0.337\n",
      "0.046\n",
      "0.021\n",
      "0.012\n",
      "0.009\n",
      "0.007\n",
      "0.006\n",
      "0.005\n",
      "0.08 sec\n"
     ]
    }
   ],
   "source": [
    "mdl = XORNet()\n",
    "criterion = nn.BCELoss()\n",
    "optimizer = torch.optim.SGD(mdl.parameters(), lr=10.)\n",
    "print(mdl)\n",
    "\n",
    "import time \n",
    "start = time.time()\n",
    "for i,(x, y) in enumerate(batched_dataset(10000)):\n",
    "    optimizer.zero_grad()\n",
    "    out = mdl(x)\n",
    "    loss = criterion(out, y)\n",
    "    if i%30 == 29:\n",
    "        print('{:.3f}'.format(running_loss/30))\n",
    "        running_loss = 0\n",
    "    running_loss += loss.item()\n",
    "    loss.backward()\n",
    "    optimizer.step()\n",
    "print('{:.2f} sec'.format(time.time()-start))"
   ]
  },
  {
   "cell_type": "code",
   "execution_count": 16,
   "metadata": {},
   "outputs": [
    {
     "name": "stdout",
     "output_type": "stream",
     "text": [
      "XORNet(\n",
      "  (hidden): Linear(in_features=2, out_features=4, bias=True)\n",
      "  (output): Linear(in_features=4, out_features=1, bias=True)\n",
      ")\n",
      "0.908\n",
      "0.557\n",
      "0.540\n",
      "0.558\n",
      "0.538\n",
      "0.527\n",
      "0.549\n",
      "0.539\n",
      "0.573\n",
      "0.493\n",
      "0.18 sec\n"
     ]
    }
   ],
   "source": [
    "mdl = XORNet().to(device)\n",
    "criterion = nn.BCELoss()\n",
    "optimizer = torch.optim.SGD(mdl.parameters(), lr=10.)\n",
    "print(mdl)\n",
    "\n",
    "import time \n",
    "start = time.time()\n",
    "for i,(x, y) in enumerate(batched_dataset(10000)):\n",
    "    optimizer.zero_grad()\n",
    "    out = mdl(x.to(device))\n",
    "    loss = criterion(out, y.to(device))\n",
    "    if i%30 == 29:\n",
    "        print('{:.3f}'.format(running_loss/30))\n",
    "        running_loss = 0\n",
    "    running_loss += loss.item()\n",
    "    loss.backward()\n",
    "    optimizer.step()\n",
    "print('{:.2f} sec'.format(time.time()-start))"
   ]
  },
  {
   "cell_type": "code",
   "execution_count": null,
   "metadata": {},
   "outputs": [],
   "source": []
  },
  {
   "cell_type": "code",
   "execution_count": null,
   "metadata": {},
   "outputs": [],
   "source": []
  },
  {
   "cell_type": "code",
   "execution_count": null,
   "metadata": {},
   "outputs": [],
   "source": []
  },
  {
   "cell_type": "code",
   "execution_count": null,
   "metadata": {},
   "outputs": [],
   "source": []
  }
 ],
 "metadata": {
  "kernelspec": {
   "display_name": "Python 3",
   "language": "python",
   "name": "python3"
  },
  "language_info": {
   "codemirror_mode": {
    "name": "ipython",
    "version": 3
   },
   "file_extension": ".py",
   "mimetype": "text/x-python",
   "name": "python",
   "nbconvert_exporter": "python",
   "pygments_lexer": "ipython3",
   "version": "3.6.5"
  }
 },
 "nbformat": 4,
 "nbformat_minor": 2
}
